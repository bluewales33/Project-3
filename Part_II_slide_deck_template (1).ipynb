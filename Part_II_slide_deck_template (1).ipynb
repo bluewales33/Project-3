{
 "cells": [
  {
   "cell_type": "markdown",
   "metadata": {
    "slideshow": {
     "slide_type": "slide"
    }
   },
   "source": [
    "# Part II - (Loan Data from Prosper)\n",
    "## by (Adewale Yusuff Adeleke)"
   ]
  },
  {
   "cell_type": "markdown",
   "metadata": {
    "slideshow": {
     "slide_type": "slide"
    }
   },
   "source": [
    "\n",
    "## Investigation Overview\n",
    "\n",
    "\n",
    "> For the presentation, my focus is on the cummulative effect of interest rate and owning a house on the loan payment. The categorical variables  IsBorrowerHomeowner and LoanStatus  are plotted on Facetting box against BorrowerRate on y axis. figsize of 4 where used for clarity sake.\n",
    "            The chart in the middle (Completed) shows that borrowers tends to complete their payment more when they own house, as compared to when they do not, and the interest rate is relatively low compared to the two other charts.\n",
    " \n",
    "\n",
    "\n",
    "## Dataset Overview\n",
    "\n",
    "> This data set contains 113,937 loans with 81 variables on each loan, including loan amount, borrower rate (or interest rate), current loan status, borrower income, and many others. Data tidiness are done, as there are few variables with unmatched dtypes, and Year was extracted from 'ListingCreationDate' and 'ClosedDate'so as to be able to effectively run numetrical functions. Some rows where dropped as a result of incomplete data and null values."
   ]
  },
  {
   "cell_type": "code",
   "execution_count": 1,
   "metadata": {
    "slideshow": {
     "slide_type": "skip"
    }
   },
   "outputs": [],
   "source": [
    "# import all packages and set plots to be embedded inline\n",
    "import numpy as np\n",
    "import pandas as pd\n",
    "import matplotlib.pyplot as plt\n",
    "import seaborn as sb\n",
    "\n",
    "%matplotlib inline\n",
    "\n",
    "# suppress warnings from final output\n",
    "import warnings\n",
    "warnings.simplefilter(\"ignore\")"
   ]
  },
  {
   "cell_type": "code",
   "execution_count": 2,
   "metadata": {
    "slideshow": {
     "slide_type": "skip"
    }
   },
   "outputs": [
    {
     "data": {
      "text/html": [
       "<div>\n",
       "<style scoped>\n",
       "    .dataframe tbody tr th:only-of-type {\n",
       "        vertical-align: middle;\n",
       "    }\n",
       "\n",
       "    .dataframe tbody tr th {\n",
       "        vertical-align: top;\n",
       "    }\n",
       "\n",
       "    .dataframe thead th {\n",
       "        text-align: right;\n",
       "    }\n",
       "</style>\n",
       "<table border=\"1\" class=\"dataframe\">\n",
       "  <thead>\n",
       "    <tr style=\"text-align: right;\">\n",
       "      <th></th>\n",
       "      <th>ListingKey</th>\n",
       "      <th>ListingCreationDate</th>\n",
       "      <th>Term</th>\n",
       "      <th>LoanStatus</th>\n",
       "      <th>ClosedDate</th>\n",
       "      <th>BorrowerAPR</th>\n",
       "      <th>BorrowerRate</th>\n",
       "      <th>ProsperScore</th>\n",
       "      <th>ListingCategory (numeric)</th>\n",
       "      <th>BorrowerState</th>\n",
       "      <th>...</th>\n",
       "      <th>EmploymentStatusDuration</th>\n",
       "      <th>IsBorrowerHomeowner</th>\n",
       "      <th>CreditScoreRangeLower</th>\n",
       "      <th>CreditScoreRangeUpper</th>\n",
       "      <th>IncomeRange</th>\n",
       "      <th>IncomeVerifiable</th>\n",
       "      <th>StatedMonthlyIncome</th>\n",
       "      <th>LoanOriginalAmount</th>\n",
       "      <th>Recommendations</th>\n",
       "      <th>Investors</th>\n",
       "    </tr>\n",
       "  </thead>\n",
       "  <tbody>\n",
       "    <tr>\n",
       "      <th>0</th>\n",
       "      <td>0F483544120452347F48121</td>\n",
       "      <td>2012</td>\n",
       "      <td>36</td>\n",
       "      <td>Defaulted</td>\n",
       "      <td>2012</td>\n",
       "      <td>0.35797</td>\n",
       "      <td>0.3177</td>\n",
       "      <td>5</td>\n",
       "      <td>13</td>\n",
       "      <td>FL</td>\n",
       "      <td>...</td>\n",
       "      <td>121</td>\n",
       "      <td>True</td>\n",
       "      <td>700</td>\n",
       "      <td>719</td>\n",
       "      <td>$50,000-74,999</td>\n",
       "      <td>True</td>\n",
       "      <td>5500</td>\n",
       "      <td>4000</td>\n",
       "      <td>0</td>\n",
       "      <td>10</td>\n",
       "    </tr>\n",
       "    <tr>\n",
       "      <th>1</th>\n",
       "      <td>101B35764008108187B2EBA</td>\n",
       "      <td>2013</td>\n",
       "      <td>36</td>\n",
       "      <td>Defaulted</td>\n",
       "      <td>2013</td>\n",
       "      <td>0.28032</td>\n",
       "      <td>0.2419</td>\n",
       "      <td>5</td>\n",
       "      <td>15</td>\n",
       "      <td>IL</td>\n",
       "      <td>...</td>\n",
       "      <td>3</td>\n",
       "      <td>False</td>\n",
       "      <td>680</td>\n",
       "      <td>699</td>\n",
       "      <td>$25,000-49,999</td>\n",
       "      <td>True</td>\n",
       "      <td>2500</td>\n",
       "      <td>2000</td>\n",
       "      <td>0</td>\n",
       "      <td>30</td>\n",
       "    </tr>\n",
       "    <tr>\n",
       "      <th>2</th>\n",
       "      <td>0F4F3571508214190FD75CB</td>\n",
       "      <td>2013</td>\n",
       "      <td>60</td>\n",
       "      <td>Completed</td>\n",
       "      <td>2013</td>\n",
       "      <td>0.30748</td>\n",
       "      <td>0.2809</td>\n",
       "      <td>3</td>\n",
       "      <td>1</td>\n",
       "      <td>NY</td>\n",
       "      <td>...</td>\n",
       "      <td>25</td>\n",
       "      <td>False</td>\n",
       "      <td>660</td>\n",
       "      <td>679</td>\n",
       "      <td>$25,000-49,999</td>\n",
       "      <td>True</td>\n",
       "      <td>3886</td>\n",
       "      <td>4000</td>\n",
       "      <td>0</td>\n",
       "      <td>37</td>\n",
       "    </tr>\n",
       "    <tr>\n",
       "      <th>3</th>\n",
       "      <td>0F5034867864161084F3789</td>\n",
       "      <td>2010</td>\n",
       "      <td>36</td>\n",
       "      <td>Completed</td>\n",
       "      <td>2013</td>\n",
       "      <td>0.11296</td>\n",
       "      <td>0.0920</td>\n",
       "      <td>9</td>\n",
       "      <td>1</td>\n",
       "      <td>CO</td>\n",
       "      <td>...</td>\n",
       "      <td>10</td>\n",
       "      <td>True</td>\n",
       "      <td>700</td>\n",
       "      <td>719</td>\n",
       "      <td>$75,000-99,999</td>\n",
       "      <td>True</td>\n",
       "      <td>6667</td>\n",
       "      <td>4000</td>\n",
       "      <td>0</td>\n",
       "      <td>121</td>\n",
       "    </tr>\n",
       "    <tr>\n",
       "      <th>4</th>\n",
       "      <td>0F57353904771934596FE9F</td>\n",
       "      <td>2012</td>\n",
       "      <td>36</td>\n",
       "      <td>Completed</td>\n",
       "      <td>2012</td>\n",
       "      <td>0.12782</td>\n",
       "      <td>0.0999</td>\n",
       "      <td>9</td>\n",
       "      <td>20</td>\n",
       "      <td>CA</td>\n",
       "      <td>...</td>\n",
       "      <td>44</td>\n",
       "      <td>False</td>\n",
       "      <td>740</td>\n",
       "      <td>759</td>\n",
       "      <td>$25,000-49,999</td>\n",
       "      <td>True</td>\n",
       "      <td>3750</td>\n",
       "      <td>10000</td>\n",
       "      <td>0</td>\n",
       "      <td>30</td>\n",
       "    </tr>\n",
       "  </tbody>\n",
       "</table>\n",
       "<p>5 rows × 22 columns</p>\n",
       "</div>"
      ],
      "text/plain": [
       "                ListingKey  ListingCreationDate  Term LoanStatus  ClosedDate  \\\n",
       "0  0F483544120452347F48121                 2012    36  Defaulted        2012   \n",
       "1  101B35764008108187B2EBA                 2013    36  Defaulted        2013   \n",
       "2  0F4F3571508214190FD75CB                 2013    60  Completed        2013   \n",
       "3  0F5034867864161084F3789                 2010    36  Completed        2013   \n",
       "4  0F57353904771934596FE9F                 2012    36  Completed        2012   \n",
       "\n",
       "   BorrowerAPR  BorrowerRate  ProsperScore  ListingCategory (numeric)  \\\n",
       "0      0.35797        0.3177             5                         13   \n",
       "1      0.28032        0.2419             5                         15   \n",
       "2      0.30748        0.2809             3                          1   \n",
       "3      0.11296        0.0920             9                          1   \n",
       "4      0.12782        0.0999             9                         20   \n",
       "\n",
       "  BorrowerState    ...     EmploymentStatusDuration IsBorrowerHomeowner  \\\n",
       "0            FL    ...                          121                True   \n",
       "1            IL    ...                            3               False   \n",
       "2            NY    ...                           25               False   \n",
       "3            CO    ...                           10                True   \n",
       "4            CA    ...                           44               False   \n",
       "\n",
       "   CreditScoreRangeLower  CreditScoreRangeUpper     IncomeRange  \\\n",
       "0                    700                    719  $50,000-74,999   \n",
       "1                    680                    699  $25,000-49,999   \n",
       "2                    660                    679  $25,000-49,999   \n",
       "3                    700                    719  $75,000-99,999   \n",
       "4                    740                    759  $25,000-49,999   \n",
       "\n",
       "   IncomeVerifiable StatedMonthlyIncome  LoanOriginalAmount  Recommendations  \\\n",
       "0              True                5500                4000                0   \n",
       "1              True                2500                2000                0   \n",
       "2              True                3886                4000                0   \n",
       "3              True                6667                4000                0   \n",
       "4              True                3750               10000                0   \n",
       "\n",
       "   Investors  \n",
       "0         10  \n",
       "1         30  \n",
       "2         37  \n",
       "3        121  \n",
       "4         30  \n",
       "\n",
       "[5 rows x 22 columns]"
      ]
     },
     "execution_count": 2,
     "metadata": {},
     "output_type": "execute_result"
    }
   ],
   "source": [
    "# load in the dataset into a pandas dataframe\n",
    "df = pd.read_csv('prosperLoanData_clean.csv')\n",
    "df.head()"
   ]
  },
  {
   "cell_type": "code",
   "execution_count": 3,
   "metadata": {
    "slideshow": {
     "slide_type": "skip"
    }
   },
   "outputs": [],
   "source": [
    "def myCountPlot(df,xVar,hueVar=None,color=sb.color_palette()[0],palette=None,order=None):\n",
    "    # set plot dimensions\n",
    "    plt.figure(figsize=[14, 6])\n",
    "    # plot\n",
    "    sb.countplot(data=df, x = xVar,hue=hueVar,color=color,palette=palette,order=order,edgecolor='black');\n",
    "    plt.title(f'''Distribution of {xVar} {'by' if hueVar else ''} {hueVar if hueVar else ''}'''.title(), fontsize = 14, weight = \"bold\")\n",
    "    # Add x label and format it\n",
    "    plt.xlabel(xVar.title(), fontsize = 10, weight = 'bold')\n",
    "    # Add y label and format it\n",
    "    plt.ylabel('Frequency'.title(), fontsize = 10, weight = 'bold')"
   ]
  },
  {
   "cell_type": "markdown",
   "metadata": {
    "slideshow": {
     "slide_type": "notes"
    }
   },
   "source": [
    "> Note that the above cells have been set as \"Skip\"-type slides. That means\n",
    "that when the notebook is rendered as http slides, those cells won't show up."
   ]
  },
  {
   "cell_type": "markdown",
   "metadata": {
    "slideshow": {
     "slide_type": "slide"
    }
   },
   "source": [
    "\n",
    "\n",
    "It is depicted on the below box plot that the majority of the Completed (Loan Status) plot has a relatively lower interest rate compared to 'Default' and 'Chargeoff'. This shows that majority of the borrowers tends to pay up on time when the interest rate is minimal."
   ]
  },
  {
   "cell_type": "code",
   "execution_count": 4,
   "metadata": {
    "slideshow": {
     "slide_type": "subslide"
    }
   },
   "outputs": [
    {
     "data": {
      "image/png": "[encoded data removed]",
      "text/plain": [
       "<matplotlib.figure.Figure at 0x7ff287f39a58>"
      ]
     },
     "metadata": {
      "needs_background": "light"
     },
     "output_type": "display_data"
    }
   ],
   "source": [
    "# plot Box plot\n",
    "base_color = sb.color_palette()[0]\n",
    "sb.boxplot(data=df, x='LoanStatus', y='BorrowerRate', color=base_color)\n",
    "plt.xticks(rotation=30);\n",
    "plt.xlabel('Loan Status')\n",
    "plt.ylabel('Interest Rate')\n",
    "plt.suptitle('Effects of Interest Rate on Loan Payment'.title(), y = 1, fontsize = 14, weight = 'bold');"
   ]
  },
  {
   "cell_type": "markdown",
   "metadata": {
    "collapsed": true,
    "slideshow": {
     "slide_type": "slide"
    }
   },
   "source": [
    "\n",
    "> The chart bellow shows that majority of the employed borrowers pay up and their loans. This confirms that employement status actually has influence on loan payment."
   ]
  },
  {
   "cell_type": "code",
   "execution_count": 5,
   "metadata": {
    "slideshow": {
     "slide_type": "subslide"
    }
   },
   "outputs": [
    {
     "data": {
      "image/png": "[encoded data removed]",
      "text/plain": [
       "<matplotlib.figure.Figure at 0x7ff257571860>"
      ]
     },
     "metadata": {
      "needs_background": "light"
     },
     "output_type": "display_data"
    }
   ],
   "source": [
    "# call plot function\n",
    "myCountPlot(df,'LoanStatus', hueVar = 'EmploymentStatus', palette = 'Dark2' );"
   ]
  },
  {
   "cell_type": "markdown",
   "metadata": {
    "slideshow": {
     "slide_type": "slide"
    }
   },
   "source": [
    "\n",
    "The clustered bar chart below shows that a relatively higher amount of house owners completed their loan repayment compared to those that are not home owners."
   ]
  },
  {
   "cell_type": "code",
   "execution_count": 6,
   "metadata": {
    "slideshow": {
     "slide_type": "subslide"
    }
   },
   "outputs": [
    {
     "data": {
      "image/png": "[encoded data removed]",
      "text/plain": [
       "<matplotlib.figure.Figure at 0x7ff2575afb00>"
      ]
     },
     "metadata": {
      "needs_background": "light"
     },
     "output_type": "display_data"
    }
   ],
   "source": [
    "# call plot function\n",
    "myCountPlot(df,'LoanStatus', hueVar = 'IsBorrowerHomeowner', palette = 'Dark2' );"
   ]
  },
  {
   "cell_type": "markdown",
   "metadata": {
    "slideshow": {
     "slide_type": "slide"
    }
   },
   "source": [
    "\n",
    "As it was deduced from my bivariate explorations above that high interest rate and not owning a house have adverse effects on loan payments, the above multivariate explorattion further affirmed the assertions. The chart in the middle (Completed) shows that borrowers tends to complete their payment more when they own house, as compared to when they do not, and the interest rate is relatively low compared to the two other charts.\n"
   ]
  },
  {
   "cell_type": "code",
   "execution_count": 7,
   "metadata": {
    "slideshow": {
     "slide_type": "subslide"
    }
   },
   "outputs": [
    {
     "data": {
      "image/png": "[encoded data removed]",
      "text/plain": [
       "<matplotlib.figure.Figure at 0x7ff25733e240>"
      ]
     },
     "metadata": {
      "needs_background": "light"
     },
     "output_type": "display_data"
    }
   ],
   "source": [
    "# plot box plot\n",
    "g = sb.FacetGrid(data = df, col = 'LoanStatus', size = 4)\n",
    "g.map(sb.boxplot, 'IsBorrowerHomeowner', 'BorrowerRate')\n",
    "plt.suptitle('Cummulative Effects of Home owning and Interest Rate on Loan Payment'.title(), y = 1, fontsize = 14, weight = 'bold');"
   ]
  },
  {
   "cell_type": "markdown",
   "metadata": {
    "slideshow": {
     "slide_type": "skip"
    }
   },
   "source": [
    "### Generate Slideshow\n",
    "Once you're ready to generate your slideshow, use the `jupyter nbconvert` command to generate the HTML slide show.  "
   ]
  },
  {
   "cell_type": "code",
   "execution_count": null,
   "metadata": {
    "slideshow": {
     "slide_type": "skip"
    }
   },
   "outputs": [
    {
     "name": "stdout",
     "output_type": "stream",
     "text": [
      "[NbConvertApp] Converting notebook Part_II_slide_deck_template.ipynb to slides\n",
      "[NbConvertApp] Writing 283390 bytes to Part_II_slide_deck_template.slides.html\n",
      "[NbConvertApp] Redirecting reveal.js requests to https://cdnjs.cloudflare.com/ajax/libs/reveal.js/3.5.0\n",
      "Serving your slides at http://127.0.0.1:8000/Part_II_slide_deck_template.slides.html\n",
      "Use Control-C to stop this server\n",
      "/usr/bin/xdg-open: 778: /usr/bin/xdg-open: x-www-browser: not found\n",
      "/usr/bin/xdg-open: 778: /usr/bin/xdg-open: firefox: not found\n",
      "/usr/bin/xdg-open: 778: /usr/bin/xdg-open: iceweasel: not found\n",
      "/usr/bin/xdg-open: 778: /usr/bin/xdg-open: seamonkey: not found\n",
      "/usr/bin/xdg-open: 778: /usr/bin/xdg-open: mozilla: not found\n",
      "/usr/bin/xdg-open: 778: /usr/bin/xdg-open: epiphany: not found\n",
      "/usr/bin/xdg-open: 778: /usr/bin/xdg-open: konqueror: not found\n",
      "/usr/bin/xdg-open: 778: /usr/bin/xdg-open: chromium-browser: not found\n",
      "/usr/bin/xdg-open: 778: /usr/bin/xdg-open: google-chrome: not found\n",
      "/usr/bin/xdg-open: 778: /usr/bin/xdg-open: www-browser: not found\n",
      "/usr/bin/xdg-open: 778: /usr/bin/xdg-open: links2: not found\n",
      "/usr/bin/xdg-open: 778: /usr/bin/xdg-open: elinks: not found\n",
      "/usr/bin/xdg-open: 778: /usr/bin/xdg-open: links: not found\n",
      "/usr/bin/xdg-open: 778: /usr/bin/xdg-open: lynx: not found\n",
      "/usr/bin/xdg-open: 778: /usr/bin/xdg-open: w3m: not found\n",
      "xdg-open: no method available for opening 'http://127.0.0.1:8000/Part_II_slide_deck_template.slides.html'\n"
     ]
    }
   ],
   "source": [
    "# Use this command if you are running this file in local\n",
    "!jupyter nbconvert Part_II_slide_deck_template.ipynb --to slides --post serve --no-input --no-prompt"
   ]
  },
  {
   "cell_type": "markdown",
   "metadata": {
    "slideshow": {
     "slide_type": "skip"
    }
   },
   "source": [
    "> In the classroom workspace, the generated HTML slideshow will be placed in the home folder. \n",
    "\n",
    "> In local machines, the command above should open a tab in your web browser where you can scroll through your presentation. Sub-slides can be accessed by pressing 'down' when viewing its parent slide. Make sure you remove all of the quote-formatted guide notes like this one before you finish your presentation! At last, you can stop the Kernel. "
   ]
  },
  {
   "cell_type": "markdown",
   "metadata": {
    "slideshow": {
     "slide_type": "skip"
    }
   },
   "source": [
    "### Submission\n",
    "If you are using classroom workspace, you can choose from the following two ways of submission:\n",
    "\n",
    "1. **Submit from the workspace**. Make sure you have removed the example project from the /home/workspace directory. You must submit the following files:\n",
    "   - Part_I_notebook.ipynb\n",
    "   - Part_I_notebook.html or pdf\n",
    "   - Part_II_notebook.ipynb\n",
    "   - Part_I_slides.html\n",
    "   - README.md\n",
    "   - dataset (optional)\n",
    "\n",
    "\n",
    "2. **Submit a zip file on the last page of this project lesson**. In this case, open the Jupyter terminal and run the command below to generate a ZIP file. \n",
    "```bash\n",
    "zip -r my_project.zip .\n",
    "```\n",
    "The command abobve will ZIP every file present in your /home/workspace directory. Next, you can download the zip to your local, and follow the instructions on the last page of this project lesson.\n"
   ]
  }
 ],
 "metadata": {
  "celltoolbar": "Slideshow",
  "kernelspec": {
   "display_name": "Python 3",
   "language": "python",
   "name": "python3"
  },
  "language_info": {
   "codemirror_mode": {
    "name": "ipython",
    "version": 3
   },
   "file_extension": ".py",
   "mimetype": "text/x-python",
   "name": "python",
   "nbconvert_exporter": "python",
   "pygments_lexer": "ipython3",
   "version": "3.6.3"
  }
 },
 "nbformat": 4,
 "nbformat_minor": 2
}
